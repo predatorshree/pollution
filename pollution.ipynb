{
 "cells": [
  {
   "cell_type": "code",
   "execution_count": 1,
   "id": "334381cb",
   "metadata": {},
   "outputs": [],
   "source": [
    "import pandas as pd"
   ]
  },
  {
   "cell_type": "code",
   "execution_count": 10,
   "id": "eaddc5fc",
   "metadata": {},
   "outputs": [],
   "source": [
    "import numpy as np"
   ]
  },
  {
   "cell_type": "code",
   "execution_count": 11,
   "id": "fcf7fe37",
   "metadata": {},
   "outputs": [
    {
     "data": {
      "text/html": [
       "<div>\n",
       "<style scoped>\n",
       "    .dataframe tbody tr th:only-of-type {\n",
       "        vertical-align: middle;\n",
       "    }\n",
       "\n",
       "    .dataframe tbody tr th {\n",
       "        vertical-align: top;\n",
       "    }\n",
       "\n",
       "    .dataframe thead th {\n",
       "        text-align: right;\n",
       "    }\n",
       "</style>\n",
       "<table border=\"1\" class=\"dataframe\">\n",
       "  <thead>\n",
       "    <tr style=\"text-align: right;\">\n",
       "      <th></th>\n",
       "      <th>Country Name</th>\n",
       "      <th>country_code</th>\n",
       "      <th>Region</th>\n",
       "      <th>Indicator Name</th>\n",
       "      <th>1990</th>\n",
       "      <th>1991</th>\n",
       "      <th>1992</th>\n",
       "      <th>1993</th>\n",
       "      <th>1994</th>\n",
       "      <th>1995</th>\n",
       "      <th>...</th>\n",
       "      <th>2011</th>\n",
       "      <th>2012</th>\n",
       "      <th>2013</th>\n",
       "      <th>2014</th>\n",
       "      <th>2015</th>\n",
       "      <th>2016</th>\n",
       "      <th>2017</th>\n",
       "      <th>2018</th>\n",
       "      <th>2019</th>\n",
       "      <th>2019.1</th>\n",
       "    </tr>\n",
       "  </thead>\n",
       "  <tbody>\n",
       "    <tr>\n",
       "      <th>0</th>\n",
       "      <td>Aruba</td>\n",
       "      <td>ABW</td>\n",
       "      <td>Latin America &amp; Caribbean</td>\n",
       "      <td>CO2 emissions (metric tons per capita)</td>\n",
       "      <td>NaN</td>\n",
       "      <td>NaN</td>\n",
       "      <td>NaN</td>\n",
       "      <td>NaN</td>\n",
       "      <td>NaN</td>\n",
       "      <td>NaN</td>\n",
       "      <td>...</td>\n",
       "      <td>NaN</td>\n",
       "      <td>NaN</td>\n",
       "      <td>NaN</td>\n",
       "      <td>NaN</td>\n",
       "      <td>NaN</td>\n",
       "      <td>NaN</td>\n",
       "      <td>NaN</td>\n",
       "      <td>NaN</td>\n",
       "      <td>NaN</td>\n",
       "      <td>NaN</td>\n",
       "    </tr>\n",
       "    <tr>\n",
       "      <th>1</th>\n",
       "      <td>Afghanistan</td>\n",
       "      <td>AFG</td>\n",
       "      <td>South Asia</td>\n",
       "      <td>CO2 emissions (metric tons per capita)</td>\n",
       "      <td>0.191745</td>\n",
       "      <td>0.167682</td>\n",
       "      <td>0.095958</td>\n",
       "      <td>0.084721</td>\n",
       "      <td>0.075546</td>\n",
       "      <td>0.068468</td>\n",
       "      <td>...</td>\n",
       "      <td>0.296506</td>\n",
       "      <td>0.259295</td>\n",
       "      <td>0.185624</td>\n",
       "      <td>0.146236</td>\n",
       "      <td>0.172897</td>\n",
       "      <td>0.149789</td>\n",
       "      <td>0.131695</td>\n",
       "      <td>0.163295</td>\n",
       "      <td>0.159824</td>\n",
       "      <td>0.159824</td>\n",
       "    </tr>\n",
       "    <tr>\n",
       "      <th>2</th>\n",
       "      <td>Angola</td>\n",
       "      <td>AGO</td>\n",
       "      <td>Sub-Saharan Africa</td>\n",
       "      <td>CO2 emissions (metric tons per capita)</td>\n",
       "      <td>0.553662</td>\n",
       "      <td>0.544539</td>\n",
       "      <td>0.543557</td>\n",
       "      <td>0.708984</td>\n",
       "      <td>0.836804</td>\n",
       "      <td>0.912141</td>\n",
       "      <td>...</td>\n",
       "      <td>0.985522</td>\n",
       "      <td>0.950696</td>\n",
       "      <td>1.036294</td>\n",
       "      <td>1.099779</td>\n",
       "      <td>1.135044</td>\n",
       "      <td>1.031811</td>\n",
       "      <td>0.813301</td>\n",
       "      <td>0.777675</td>\n",
       "      <td>0.792137</td>\n",
       "      <td>0.792137</td>\n",
       "    </tr>\n",
       "    <tr>\n",
       "      <th>3</th>\n",
       "      <td>Albania</td>\n",
       "      <td>ALB</td>\n",
       "      <td>Europe &amp; Central Asia</td>\n",
       "      <td>CO2 emissions (metric tons per capita)</td>\n",
       "      <td>1.819542</td>\n",
       "      <td>1.242810</td>\n",
       "      <td>0.683700</td>\n",
       "      <td>0.638307</td>\n",
       "      <td>0.645355</td>\n",
       "      <td>0.605436</td>\n",
       "      <td>...</td>\n",
       "      <td>1.669423</td>\n",
       "      <td>1.503240</td>\n",
       "      <td>1.533630</td>\n",
       "      <td>1.668337</td>\n",
       "      <td>1.603775</td>\n",
       "      <td>1.557664</td>\n",
       "      <td>1.788786</td>\n",
       "      <td>1.782739</td>\n",
       "      <td>1.692248</td>\n",
       "      <td>1.692248</td>\n",
       "    </tr>\n",
       "    <tr>\n",
       "      <th>4</th>\n",
       "      <td>Andorra</td>\n",
       "      <td>AND</td>\n",
       "      <td>Europe &amp; Central Asia</td>\n",
       "      <td>CO2 emissions (metric tons per capita)</td>\n",
       "      <td>7.521832</td>\n",
       "      <td>7.235379</td>\n",
       "      <td>6.963079</td>\n",
       "      <td>6.724178</td>\n",
       "      <td>6.541579</td>\n",
       "      <td>6.733479</td>\n",
       "      <td>...</td>\n",
       "      <td>5.850886</td>\n",
       "      <td>5.944654</td>\n",
       "      <td>5.942800</td>\n",
       "      <td>5.807128</td>\n",
       "      <td>6.026182</td>\n",
       "      <td>6.080600</td>\n",
       "      <td>6.104134</td>\n",
       "      <td>6.362975</td>\n",
       "      <td>6.481217</td>\n",
       "      <td>6.481217</td>\n",
       "    </tr>\n",
       "  </tbody>\n",
       "</table>\n",
       "<p>5 rows × 35 columns</p>\n",
       "</div>"
      ],
      "text/plain": [
       "  Country Name country_code                     Region  \\\n",
       "0        Aruba          ABW  Latin America & Caribbean   \n",
       "1  Afghanistan          AFG                 South Asia   \n",
       "2       Angola          AGO         Sub-Saharan Africa   \n",
       "3      Albania          ALB      Europe & Central Asia   \n",
       "4      Andorra          AND      Europe & Central Asia   \n",
       "\n",
       "                           Indicator Name      1990      1991      1992  \\\n",
       "0  CO2 emissions (metric tons per capita)       NaN       NaN       NaN   \n",
       "1  CO2 emissions (metric tons per capita)  0.191745  0.167682  0.095958   \n",
       "2  CO2 emissions (metric tons per capita)  0.553662  0.544539  0.543557   \n",
       "3  CO2 emissions (metric tons per capita)  1.819542  1.242810  0.683700   \n",
       "4  CO2 emissions (metric tons per capita)  7.521832  7.235379  6.963079   \n",
       "\n",
       "       1993      1994      1995  ...      2011      2012      2013      2014  \\\n",
       "0       NaN       NaN       NaN  ...       NaN       NaN       NaN       NaN   \n",
       "1  0.084721  0.075546  0.068468  ...  0.296506  0.259295  0.185624  0.146236   \n",
       "2  0.708984  0.836804  0.912141  ...  0.985522  0.950696  1.036294  1.099779   \n",
       "3  0.638307  0.645355  0.605436  ...  1.669423  1.503240  1.533630  1.668337   \n",
       "4  6.724178  6.541579  6.733479  ...  5.850886  5.944654  5.942800  5.807128   \n",
       "\n",
       "       2015      2016      2017      2018      2019    2019.1  \n",
       "0       NaN       NaN       NaN       NaN       NaN       NaN  \n",
       "1  0.172897  0.149789  0.131695  0.163295  0.159824  0.159824  \n",
       "2  1.135044  1.031811  0.813301  0.777675  0.792137  0.792137  \n",
       "3  1.603775  1.557664  1.788786  1.782739  1.692248  1.692248  \n",
       "4  6.026182  6.080600  6.104134  6.362975  6.481217  6.481217  \n",
       "\n",
       "[5 rows x 35 columns]"
      ]
     },
     "execution_count": 11,
     "metadata": {},
     "output_type": "execute_result"
    }
   ],
   "source": [
    "df = pd.read_csv(\"CO2_emission.csv\")\n",
    "df.head()"
   ]
  },
  {
   "cell_type": "code",
   "execution_count": 39,
   "id": "e6224a2d",
   "metadata": {},
   "outputs": [
    {
     "data": {
      "text/plain": [
       "(215, 35)"
      ]
     },
     "execution_count": 39,
     "metadata": {},
     "output_type": "execute_result"
    }
   ],
   "source": [
    "df.shape"
   ]
  },
  {
   "cell_type": "code",
   "execution_count": 53,
   "id": "840a1e5a",
   "metadata": {},
   "outputs": [],
   "source": [
    "# df.describe ()"
   ]
  },
  {
   "cell_type": "code",
   "execution_count": 54,
   "id": "6beac59a",
   "metadata": {},
   "outputs": [],
   "source": [
    "df.loc[1,'1990':'2019'] = df.loc[1,'1990':'2019'].fillna(df.loc[1,'1990':'2019'].mean())"
   ]
  },
  {
   "cell_type": "code",
   "execution_count": 55,
   "id": "af2d5091",
   "metadata": {},
   "outputs": [
    {
     "name": "stdout",
     "output_type": "stream",
     "text": [
      "1990    0.191745\n",
      "1991    0.167682\n",
      "1992    0.095958\n",
      "1993    0.084721\n",
      "1994    0.075546\n",
      "1995    0.068468\n",
      "1996    0.062588\n",
      "1997    0.056827\n",
      "1998    0.052691\n",
      "1999    0.040157\n",
      "2000    0.036574\n",
      "2001    0.033785\n",
      "2002    0.045574\n",
      "2003    0.051518\n",
      "2004    0.041655\n",
      "2005    0.060419\n",
      "2006    0.066583\n",
      "2007    0.065312\n",
      "2008    0.128417\n",
      "2009    0.171862\n",
      "2010    0.243614\n",
      "2011    0.296506\n",
      "2012    0.259295\n",
      "2013    0.185624\n",
      "2014    0.146236\n",
      "2015    0.172897\n",
      "2016    0.149789\n",
      "2017    0.131695\n",
      "2018    0.163295\n",
      "2019    0.159824\n",
      "Name: 1, dtype: object\n",
      "30\n"
     ]
    }
   ],
   "source": [
    "list_of_Afghanistan = []\n",
    "list_of_Afghanistan = df.loc[1,'1990':'2019']\n",
    "print(list_of_Afghanistan)\n",
    "print(len(list_of_Afghanistan)) "
   ]
  },
  {
   "cell_type": "markdown",
   "id": "56b26265",
   "metadata": {},
   "source": [
    "# Calculating Mean of Afghanistan"
   ]
  },
  {
   "cell_type": "code",
   "execution_count": 56,
   "id": "769fe7d3",
   "metadata": {},
   "outputs": [],
   "source": [
    "def mean_of_list(listofvalues):\n",
    "    sum = 0\n",
    "    for i in range(len(listofvalues)):\n",
    "        sum += listofvalues[i]\n",
    "        mean = sum / len(listofvalues)\n",
    "        return mean\n",
    "    "
   ]
  },
  {
   "cell_type": "code",
   "execution_count": 57,
   "id": "b9644ca4",
   "metadata": {},
   "outputs": [
    {
     "name": "stdout",
     "output_type": "stream",
     "text": [
      "0.0063915038333333335\n"
     ]
    }
   ],
   "source": [
    "mean_Afghanistan = mean_of_list(list_of_Afghanistan)\n",
    "print(mean_Afghanistan)"
   ]
  },
  {
   "cell_type": "code",
   "execution_count": 60,
   "id": "fd808560",
   "metadata": {},
   "outputs": [],
   "source": [
    "# country_mean = df.loc[1,'1990':'2019'].mean()\n",
    "# print(country_mean)\n"
   ]
  },
  {
   "cell_type": "code",
   "execution_count": 66,
   "id": "9a77ae87",
   "metadata": {},
   "outputs": [
    {
     "data": {
      "text/plain": [
       "0.11689522946666667"
      ]
     },
     "execution_count": 66,
     "metadata": {},
     "output_type": "execute_result"
    }
   ],
   "source": [
    "df.loc[1,'1990':'2019'].mean()"
   ]
  },
  {
   "cell_type": "markdown",
   "id": "05ddf3d1",
   "metadata": {},
   "source": [
    "# Calculating median of Afghanistan"
   ]
  },
  {
   "cell_type": "code",
   "execution_count": 63,
   "id": "99547d32",
   "metadata": {},
   "outputs": [],
   "source": [
    "def median_of_list(listofvalues):\n",
    "    total_values = len(listofvalues)\n",
    "    sorted_list  = sorted(listofvalues)\n",
    "    mid = total_values // 2\n",
    "    \n",
    "    if(total_values % 2 == 0):\n",
    "        median = (sorted_list[mid-1]+sorted_list[mid]) / 2\n",
    "        return median\n",
    "    else:\n",
    "        median = sorted_list[mid]\n",
    "        return median"
   ]
  },
  {
   "cell_type": "code",
   "execution_count": 64,
   "id": "93cbda31",
   "metadata": {},
   "outputs": [
    {
     "name": "stdout",
     "output_type": "stream",
     "text": [
      "0.090339426\n"
     ]
    }
   ],
   "source": [
    "median_Afghanistan = median_of_list(list_of_Afghanistan)\n",
    "print(median_Afghanistan)"
   ]
  },
  {
   "cell_type": "code",
   "execution_count": 65,
   "id": "ad91d359",
   "metadata": {},
   "outputs": [
    {
     "data": {
      "text/plain": [
       "0.090339426"
      ]
     },
     "execution_count": 65,
     "metadata": {},
     "output_type": "execute_result"
    }
   ],
   "source": [
    "df.loc[1,'1990':'2019'].median()"
   ]
  },
  {
   "cell_type": "markdown",
   "id": "1df79949",
   "metadata": {},
   "source": [
    "# Calculating Mode of Afghanistan"
   ]
  },
  {
   "cell_type": "code",
   "execution_count": 67,
   "id": "16d264b8",
   "metadata": {},
   "outputs": [],
   "source": [
    "def mode_of_list(listofvalues):\n",
    "    new_dict = {}\n",
    "    \n",
    "    for i in listofvalues:\n",
    "        if not i in new_dict:\n",
    "            new_dict[i] = 1\n",
    "        else:\n",
    "            new_dict[i] += 1\n",
    "            \n",
    "    return [k for k,l in new_dict.items () if l == max(new_dict.values())]        "
   ]
  },
  {
   "cell_type": "code",
   "execution_count": 87,
   "id": "7e085cd4",
   "metadata": {},
   "outputs": [
    {
     "data": {
      "text/plain": [
       "[0.191745115,\n",
       " 0.167681579,\n",
       " 0.095957742,\n",
       " 0.08472111,\n",
       " 0.075545827,\n",
       " 0.068467956,\n",
       " 0.062588034,\n",
       " 0.056826618,\n",
       " 0.052690856,\n",
       " 0.040156965,\n",
       " 0.036573704,\n",
       " 0.03378536,\n",
       " 0.045573659,\n",
       " 0.051518377,\n",
       " 0.041655394,\n",
       " 0.060418781,\n",
       " 0.066583291,\n",
       " 0.065312346,\n",
       " 0.128416559,\n",
       " 0.171862421,\n",
       " 0.243614036,\n",
       " 0.29650624,\n",
       " 0.259295334,\n",
       " 0.18562366,\n",
       " 0.146235617,\n",
       " 0.172896741,\n",
       " 0.149789334,\n",
       " 0.131694556,\n",
       " 0.1632953,\n",
       " 0.159824372]"
      ]
     },
     "execution_count": 87,
     "metadata": {},
     "output_type": "execute_result"
    }
   ],
   "source": [
    "mode_of_list(list_of_Afghanistan)\n",
    "\n"
   ]
  },
  {
   "cell_type": "code",
   "execution_count": 88,
   "id": "975aaa14",
   "metadata": {},
   "outputs": [],
   "source": [
    "# df.loc[1,'1990':'2019'].mode()"
   ]
  },
  {
   "cell_type": "markdown",
   "id": "aca16d38",
   "metadata": {},
   "source": [
    "# Measures of Dispersion\n",
    "Range,\n",
    "Variance,\n",
    "Standard Deviation,\n",
    "IQR"
   ]
  },
  {
   "cell_type": "markdown",
   "id": "8d4530dd",
   "metadata": {},
   "source": [
    " # Calculating Range Afghanistan"
   ]
  },
  {
   "cell_type": "code",
   "execution_count": 73,
   "id": "b7e7d4d7",
   "metadata": {},
   "outputs": [],
   "source": [
    "def range_of_list(listofvalues):\n",
    "    max_value = max(listofvalues)\n",
    "    min_value = min(listofvalues)\n",
    "    \n",
    "    return max_value - min_value"
   ]
  },
  {
   "cell_type": "code",
   "execution_count": 74,
   "id": "589d58f5",
   "metadata": {},
   "outputs": [
    {
     "data": {
      "text/plain": [
       "0.26272088"
      ]
     },
     "execution_count": 74,
     "metadata": {},
     "output_type": "execute_result"
    }
   ],
   "source": [
    "range_of_list(list_of_Afghanistan)"
   ]
  },
  {
   "cell_type": "markdown",
   "id": "06c3e831",
   "metadata": {},
   "source": [
    "# Calculating Variance  Afghanistan"
   ]
  },
  {
   "cell_type": "code",
   "execution_count": 75,
   "id": "476fce67",
   "metadata": {},
   "outputs": [],
   "source": [
    "def variance_of_list(listofvalues):\n",
    "    mean_listofvalues = mean_of_list(listofvalues)\n",
    "    total_obs = len(listofvalues)\n",
    "    \n",
    "    sum_numerator = 0\n",
    "    \n",
    "    for i in range (total_obs):\n",
    "        temp = (listofvalues [i] - mean_listofvalues)**2\n",
    "        \n",
    "        sum_numerator +=temp\n",
    "    var_listofvalues = sum_numerator / total_obs\n",
    "    return var_listofvalues"
   ]
  },
  {
   "cell_type": "code",
   "execution_count": 78,
   "id": "f47171d7",
   "metadata": {},
   "outputs": [
    {
     "data": {
      "text/plain": [
       "0.01730468672091255"
      ]
     },
     "execution_count": 78,
     "metadata": {},
     "output_type": "execute_result"
    }
   ],
   "source": [
    "variance_Afghanistan = variance_of_list(list_of_Afghanistan)\n",
    "variance_Afghanistan"
   ]
  },
  {
   "cell_type": "markdown",
   "id": "9d9ce1d8",
   "metadata": {},
   "source": [
    "# Calculating Std dev Afghanistan"
   ]
  },
  {
   "cell_type": "code",
   "execution_count": 79,
   "id": "f9cba535",
   "metadata": {},
   "outputs": [],
   "source": [
    "def std_of_list(listofvalues):\n",
    "    variance = variance_of_list(listofvalues)\n",
    "    \n",
    "    return variance **(1/2)"
   ]
  },
  {
   "cell_type": "code",
   "execution_count": 80,
   "id": "df0063b0",
   "metadata": {},
   "outputs": [
    {
     "data": {
      "text/plain": [
       "0.13154727941281247"
      ]
     },
     "execution_count": 80,
     "metadata": {},
     "output_type": "execute_result"
    }
   ],
   "source": [
    "std_Afghanistan = std_of_list(list_of_Afghanistan)\n",
    "std_Afghanistan"
   ]
  },
  {
   "cell_type": "markdown",
   "id": "e891b528",
   "metadata": {},
   "source": [
    "# Finding Quartiles"
   ]
  },
  {
   "cell_type": "code",
   "execution_count": 81,
   "id": "db8c29ac",
   "metadata": {},
   "outputs": [],
   "source": [
    "def find_quartile(x,listofvalues):\n",
    "    sorted_list = sorted(listofvalues)\n",
    "    total_values = len(sorted_list)\n",
    "    \n",
    "    if total_values % 2 == 0:\n",
    "        mid = total_values // 2\n",
    "        lower_half  = sorted_list[:mid]\n",
    "        upper_half = sorted_list[mid:]\n",
    "    else:\n",
    "        mid = total_values // 2\n",
    "        lower_half = sorted_list[:mid]\n",
    "        upper_half = sorted_list[mid+1:]\n",
    "        \n",
    "    if x == 1:\n",
    "        return median_of_list(lower_half)\n",
    "    else:\n",
    "        return meadian_of_list(upper_half)"
   ]
  },
  {
   "cell_type": "code",
   "execution_count": 84,
   "id": "15e59e6e",
   "metadata": {},
   "outputs": [
    {
     "data": {
      "text/plain": [
       "0.056826618"
      ]
     },
     "execution_count": 84,
     "metadata": {},
     "output_type": "execute_result"
    }
   ],
   "source": [
    "firstquartile_Afghanistan = find_quartile(1,list_of_Afghanistan)\n",
    "firstquartile_Afghanistan"
   ]
  },
  {
   "cell_type": "code",
   "execution_count": 85,
   "id": "4ab804e7",
   "metadata": {},
   "outputs": [
    {
     "data": {
      "text/plain": [
       "0.167681579"
      ]
     },
     "execution_count": 85,
     "metadata": {},
     "output_type": "execute_result"
    }
   ],
   "source": [
    "thirdquartile_Afghanistan = find_quartile(3,list_of_Afghanistan)\n",
    "thirdquartile_Afghanistan"
   ]
  },
  {
   "cell_type": "markdown",
   "id": "b2b47443",
   "metadata": {},
   "source": [
    "# Finding Inter-Quartile Range"
   ]
  },
  {
   "cell_type": "code",
   "execution_count": 86,
   "id": "56d4d80d",
   "metadata": {},
   "outputs": [
    {
     "data": {
      "text/plain": [
       "0.110854961"
      ]
     },
     "execution_count": 86,
     "metadata": {},
     "output_type": "execute_result"
    }
   ],
   "source": [
    "IQR_Afghanistan = thirdquartile_Afghanistan - firstquartile_Afghanistan\n",
    "IQR_Afghanistan"
   ]
  },
  {
   "cell_type": "code",
   "execution_count": null,
   "id": "b3a9297c",
   "metadata": {},
   "outputs": [],
   "source": []
  }
 ],
 "metadata": {
  "kernelspec": {
   "display_name": "Python 3 (ipykernel)",
   "language": "python",
   "name": "python3"
  },
  "language_info": {
   "codemirror_mode": {
    "name": "ipython",
    "version": 3
   },
   "file_extension": ".py",
   "mimetype": "text/x-python",
   "name": "python",
   "nbconvert_exporter": "python",
   "pygments_lexer": "ipython3",
   "version": "3.11.2"
  }
 },
 "nbformat": 4,
 "nbformat_minor": 5
}
